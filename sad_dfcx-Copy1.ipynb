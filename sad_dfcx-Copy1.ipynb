{
 "cells": [
  {
   "cell_type": "markdown",
   "id": "4e9467f4",
   "metadata": {},
   "source": [
    "### env imports"
   ]
  },
  {
   "cell_type": "code",
   "execution_count": 20,
   "id": "fc7d1a87",
   "metadata": {},
   "outputs": [],
   "source": [
    "%%capture\n",
    "!pip3 install gspread-formatting gspread google-auth wonderwords gspread-dataframe"
   ]
  },
  {
   "cell_type": "markdown",
   "id": "d6e1ea97",
   "metadata": {},
   "source": [
    "### module imports"
   ]
  },
  {
   "cell_type": "code",
   "execution_count": 21,
   "id": "b57713e9",
   "metadata": {},
   "outputs": [],
   "source": [
    "# general python imports\n",
    "import os\n",
    "\n",
    "# random word generator\n",
    "import wonderwords\n",
    "\n",
    "# data manipulation\n",
    "import pandas as pd\n",
    "import numpy as np\n",
    "\n",
    "# # dfcx-scrapi\n",
    "# from dfcx_scrapi.core.intents import Intents\n",
    "# from dfcx_scrapi.tools.dataframe_functions import DataframeFunctions\n",
    "\n",
    "# For connection to g-sheets\n",
    "import gspread\n",
    "from gspread_dataframe import get_as_dataframe, set_with_dataframe\n",
    "\n",
    "import gspread_formatting\n",
    "from oauth2client.service_account import ServiceAccountCredentials\n",
    "from df2gspread import df2gspread as d2g\n",
    "\n",
    "###\n",
    "import pandas as pd\n",
    "from gspread_dataframe import get_as_dataframe, set_with_dataframe\n",
    "from gspread_formatting.dataframe import format_with_dataframe\n",
    "\n"
   ]
  },
  {
   "cell_type": "markdown",
   "id": "4c0e02f7",
   "metadata": {},
   "source": [
    "## g-sheets config"
   ]
  },
  {
   "cell_type": "code",
   "execution_count": 22,
   "id": "fc7c2a6c",
   "metadata": {},
   "outputs": [],
   "source": [
    "# %%capture\n",
    "# service account scopes\n",
    "# master systems analysis and design dxfc g-sheets workbook...\n",
    "\n",
    "scope = ['https://www.googleapis.com/auth/spreadsheets','https://www.googleapis.com/auth/drive']\n",
    "\n",
    "\n",
    "#authorize sa\n",
    "credentials = ServiceAccountCredentials.from_json_keyfile_name('/Users/christophertrauco/.config/secrets/cx_admin_sa.json', scope)\n",
    "client = gspread.authorize(credentials)\n",
    "spreadsheet_key = '18qvh0uWkA0z7S5CC3xTdvD2wkhsmnINjgxUWmuoCo7M'\n",
    "sh = client.open_by_key(spreadsheet_key)\n"
   ]
  },
  {
   "cell_type": "code",
   "execution_count": 23,
   "id": "8feded78",
   "metadata": {},
   "outputs": [],
   "source": [
    "from wonderwords import RandomWord\n",
    "\n",
    "r = RandomWord()\n",
    "\n",
    "# generate a random word\n",
    "x = r.word(word_max_length=10)\n"
   ]
  },
  {
   "cell_type": "code",
   "execution_count": 24,
   "id": "58618789",
   "metadata": {},
   "outputs": [],
   "source": [
    "sh = client.create(x)\n"
   ]
  },
  {
   "cell_type": "code",
   "execution_count": 25,
   "id": "a58704d1",
   "metadata": {},
   "outputs": [],
   "source": [
    "sh.share('chris@botcopy.com', perm_type='user', role='writer')"
   ]
  },
  {
   "cell_type": "code",
   "execution_count": 26,
   "id": "e1872891",
   "metadata": {},
   "outputs": [
    {
     "name": "stdout",
     "output_type": "stream",
     "text": [
      "<Spreadsheet 'lick' id:1H23yIUquRmTb5uXvWFe4GDe3GK8JzpDO3ln5pQjPUME>\n"
     ]
    }
   ],
   "source": [
    "print(sh)\n",
    "x = r.word(word_max_length=10)\n",
    "test_wks = sh.add_worksheet(x, rows=100,cols=100)\n",
    "\n",
    "# cell = worksheet.acell('B1', value_render_option='FORMULA').value\n",
    "\n",
    "\n",
    "\n"
   ]
  },
  {
   "cell_type": "code",
   "execution_count": 27,
   "id": "7a48668f",
   "metadata": {},
   "outputs": [
    {
     "name": "stdout",
     "output_type": "stream",
     "text": [
      "<Worksheet 'dinosaur' id:1584689223>\n"
     ]
    },
    {
     "data": {
      "text/plain": [
       "gspread.worksheet.Worksheet"
      ]
     },
     "execution_count": 27,
     "metadata": {},
     "output_type": "execute_result"
    }
   ],
   "source": [
    "print(test_wks)\n",
    "type(test_wks)"
   ]
  },
  {
   "cell_type": "code",
   "execution_count": 28,
   "id": "77e0e2ac",
   "metadata": {},
   "outputs": [],
   "source": [
    "cell = test_wks.acell('B1', value_render_option='FORMULA').value"
   ]
  },
  {
   "cell_type": "code",
   "execution_count": 29,
   "id": "4ec290a3",
   "metadata": {},
   "outputs": [],
   "source": [
    "# print(cell)"
   ]
  },
  {
   "cell_type": "code",
   "execution_count": 30,
   "id": "d6194468",
   "metadata": {},
   "outputs": [],
   "source": [
    "df = get_as_dataframe(test_wks, evaluate_formulas=False)"
   ]
  },
  {
   "cell_type": "code",
   "execution_count": 31,
   "id": "61d35374",
   "metadata": {},
   "outputs": [
    {
     "name": "stdout",
     "output_type": "stream",
     "text": [
      "    Unnamed: 0  Unnamed: 1  Unnamed: 2  Unnamed: 3  Unnamed: 4  Unnamed: 5  \\\n",
      "0          NaN         NaN         NaN         NaN         NaN         NaN   \n",
      "1          NaN         NaN         NaN         NaN         NaN         NaN   \n",
      "2          NaN         NaN         NaN         NaN         NaN         NaN   \n",
      "3          NaN         NaN         NaN         NaN         NaN         NaN   \n",
      "4          NaN         NaN         NaN         NaN         NaN         NaN   \n",
      "..         ...         ...         ...         ...         ...         ...   \n",
      "94         NaN         NaN         NaN         NaN         NaN         NaN   \n",
      "95         NaN         NaN         NaN         NaN         NaN         NaN   \n",
      "96         NaN         NaN         NaN         NaN         NaN         NaN   \n",
      "97         NaN         NaN         NaN         NaN         NaN         NaN   \n",
      "98         NaN         NaN         NaN         NaN         NaN         NaN   \n",
      "\n",
      "    Unnamed: 6  Unnamed: 7  Unnamed: 8  Unnamed: 9  ...  Unnamed: 90  \\\n",
      "0          NaN         NaN         NaN         NaN  ...          NaN   \n",
      "1          NaN         NaN         NaN         NaN  ...          NaN   \n",
      "2          NaN         NaN         NaN         NaN  ...          NaN   \n",
      "3          NaN         NaN         NaN         NaN  ...          NaN   \n",
      "4          NaN         NaN         NaN         NaN  ...          NaN   \n",
      "..         ...         ...         ...         ...  ...          ...   \n",
      "94         NaN         NaN         NaN         NaN  ...          NaN   \n",
      "95         NaN         NaN         NaN         NaN  ...          NaN   \n",
      "96         NaN         NaN         NaN         NaN  ...          NaN   \n",
      "97         NaN         NaN         NaN         NaN  ...          NaN   \n",
      "98         NaN         NaN         NaN         NaN  ...          NaN   \n",
      "\n",
      "    Unnamed: 91  Unnamed: 92  Unnamed: 93  Unnamed: 94  Unnamed: 95  \\\n",
      "0           NaN          NaN          NaN          NaN          NaN   \n",
      "1           NaN          NaN          NaN          NaN          NaN   \n",
      "2           NaN          NaN          NaN          NaN          NaN   \n",
      "3           NaN          NaN          NaN          NaN          NaN   \n",
      "4           NaN          NaN          NaN          NaN          NaN   \n",
      "..          ...          ...          ...          ...          ...   \n",
      "94          NaN          NaN          NaN          NaN          NaN   \n",
      "95          NaN          NaN          NaN          NaN          NaN   \n",
      "96          NaN          NaN          NaN          NaN          NaN   \n",
      "97          NaN          NaN          NaN          NaN          NaN   \n",
      "98          NaN          NaN          NaN          NaN          NaN   \n",
      "\n",
      "    Unnamed: 96  Unnamed: 97  Unnamed: 98  Unnamed: 99  \n",
      "0           NaN          NaN          NaN          NaN  \n",
      "1           NaN          NaN          NaN          NaN  \n",
      "2           NaN          NaN          NaN          NaN  \n",
      "3           NaN          NaN          NaN          NaN  \n",
      "4           NaN          NaN          NaN          NaN  \n",
      "..          ...          ...          ...          ...  \n",
      "94          NaN          NaN          NaN          NaN  \n",
      "95          NaN          NaN          NaN          NaN  \n",
      "96          NaN          NaN          NaN          NaN  \n",
      "97          NaN          NaN          NaN          NaN  \n",
      "98          NaN          NaN          NaN          NaN  \n",
      "\n",
      "[99 rows x 100 columns]\n"
     ]
    }
   ],
   "source": [
    "print(df)"
   ]
  },
  {
   "cell_type": "code",
   "execution_count": 32,
   "id": "19417fca",
   "metadata": {},
   "outputs": [],
   "source": [
    "x = r.word(word_max_length=10)\n"
   ]
  },
  {
   "cell_type": "code",
   "execution_count": 33,
   "id": "27c9450d",
   "metadata": {},
   "outputs": [],
   "source": [
    "wks2 = sh.add_worksheet(x, rows=100,cols=100)\n",
    "set_with_dataframe(wks2, df)"
   ]
  },
  {
   "cell_type": "code",
   "execution_count": 34,
   "id": "3f39ec3c",
   "metadata": {},
   "outputs": [],
   "source": [
    "sh = client.open_by_key('1lt02Hh2B_q_sluK-sAcgqyJ8WbqfZ6qDP_EQJVHPJDo')"
   ]
  },
  {
   "cell_type": "code",
   "execution_count": 42,
   "id": "4532c5b9",
   "metadata": {},
   "outputs": [],
   "source": [
    "def list_worksheets():\n",
    "    wks = []\n",
    "    wks_list = sh.worksheets()\n",
    "    \n",
    "    for x in wks_list:\n",
    "       wks.append(x)\n",
    "    return wks_list"
   ]
  },
  {
   "cell_type": "code",
   "execution_count": 57,
   "id": "36abcef4",
   "metadata": {},
   "outputs": [],
   "source": [
    "\n",
    "df = list_worksheets()"
   ]
  },
  {
   "cell_type": "code",
   "execution_count": 58,
   "id": "a233dc1c",
   "metadata": {},
   "outputs": [
    {
     "name": "stdout",
     "output_type": "stream",
     "text": [
      "[<Worksheet 'Input' id:266492369>, <Worksheet 'Intents' id:762789409>, <Worksheet 'No. 2 - ETL' id:323152490>, <Worksheet 'Data' id:1544953466>, <Worksheet 'output' id:0>, <Worksheet 'Analysis' id:380052774>, <Worksheet 'DV*' id:1234901083>, <Worksheet 'Working' id:618537257>, <Worksheet 'Hx' id:707666720>, <Worksheet 'History' id:1899998623>, <Worksheet 'test2' id:2125085894>, <Worksheet 'test3' id:478685877>]\n"
     ]
    }
   ],
   "source": [
    "print(df)"
   ]
  },
  {
   "cell_type": "code",
   "execution_count": 74,
   "id": "0dbe496d",
   "metadata": {},
   "outputs": [
    {
     "ename": "KeyError",
     "evalue": "3",
     "output_type": "error",
     "traceback": [
      "\u001b[0;31m---------------------------------------------------------------------------\u001b[0m",
      "\u001b[0;31mKeyError\u001b[0m                                  Traceback (most recent call last)",
      "File \u001b[0;32m/usr/local/lib/python3.11/site-packages/pandas/core/indexes/base.py:3802\u001b[0m, in \u001b[0;36mIndex.get_loc\u001b[0;34m(self, key, method, tolerance)\u001b[0m\n\u001b[1;32m   3801\u001b[0m \u001b[38;5;28;01mtry\u001b[39;00m:\n\u001b[0;32m-> 3802\u001b[0m     \u001b[38;5;28;01mreturn\u001b[39;00m \u001b[38;5;28;43mself\u001b[39;49m\u001b[38;5;241;43m.\u001b[39;49m\u001b[43m_engine\u001b[49m\u001b[38;5;241;43m.\u001b[39;49m\u001b[43mget_loc\u001b[49m\u001b[43m(\u001b[49m\u001b[43mcasted_key\u001b[49m\u001b[43m)\u001b[49m\n\u001b[1;32m   3803\u001b[0m \u001b[38;5;28;01mexcept\u001b[39;00m \u001b[38;5;167;01mKeyError\u001b[39;00m \u001b[38;5;28;01mas\u001b[39;00m err:\n",
      "File \u001b[0;32m/usr/local/lib/python3.11/site-packages/pandas/_libs/index.pyx:138\u001b[0m, in \u001b[0;36mpandas._libs.index.IndexEngine.get_loc\u001b[0;34m()\u001b[0m\n",
      "File \u001b[0;32m/usr/local/lib/python3.11/site-packages/pandas/_libs/index.pyx:165\u001b[0m, in \u001b[0;36mpandas._libs.index.IndexEngine.get_loc\u001b[0;34m()\u001b[0m\n",
      "File \u001b[0;32mpandas/_libs/hashtable_class_helper.pxi:5745\u001b[0m, in \u001b[0;36mpandas._libs.hashtable.PyObjectHashTable.get_item\u001b[0;34m()\u001b[0m\n",
      "File \u001b[0;32mpandas/_libs/hashtable_class_helper.pxi:5753\u001b[0m, in \u001b[0;36mpandas._libs.hashtable.PyObjectHashTable.get_item\u001b[0;34m()\u001b[0m\n",
      "\u001b[0;31mKeyError\u001b[0m: 3",
      "\nThe above exception was the direct cause of the following exception:\n",
      "\u001b[0;31mKeyError\u001b[0m                                  Traceback (most recent call last)",
      "Cell \u001b[0;32mIn[74], line 1\u001b[0m\n\u001b[0;32m----> 1\u001b[0m df \u001b[38;5;241m=\u001b[39m get_as_dataframe(\u001b[43mdf\u001b[49m\u001b[43m[\u001b[49m\u001b[38;5;241;43m3\u001b[39;49m\u001b[43m]\u001b[49m, evaluate_formulas\u001b[38;5;241m=\u001b[39m\u001b[38;5;28;01mTrue\u001b[39;00m)\n",
      "File \u001b[0;32m/usr/local/lib/python3.11/site-packages/pandas/core/frame.py:3807\u001b[0m, in \u001b[0;36mDataFrame.__getitem__\u001b[0;34m(self, key)\u001b[0m\n\u001b[1;32m   3805\u001b[0m \u001b[38;5;28;01mif\u001b[39;00m \u001b[38;5;28mself\u001b[39m\u001b[38;5;241m.\u001b[39mcolumns\u001b[38;5;241m.\u001b[39mnlevels \u001b[38;5;241m>\u001b[39m \u001b[38;5;241m1\u001b[39m:\n\u001b[1;32m   3806\u001b[0m     \u001b[38;5;28;01mreturn\u001b[39;00m \u001b[38;5;28mself\u001b[39m\u001b[38;5;241m.\u001b[39m_getitem_multilevel(key)\n\u001b[0;32m-> 3807\u001b[0m indexer \u001b[38;5;241m=\u001b[39m \u001b[38;5;28;43mself\u001b[39;49m\u001b[38;5;241;43m.\u001b[39;49m\u001b[43mcolumns\u001b[49m\u001b[38;5;241;43m.\u001b[39;49m\u001b[43mget_loc\u001b[49m\u001b[43m(\u001b[49m\u001b[43mkey\u001b[49m\u001b[43m)\u001b[49m\n\u001b[1;32m   3808\u001b[0m \u001b[38;5;28;01mif\u001b[39;00m is_integer(indexer):\n\u001b[1;32m   3809\u001b[0m     indexer \u001b[38;5;241m=\u001b[39m [indexer]\n",
      "File \u001b[0;32m/usr/local/lib/python3.11/site-packages/pandas/core/indexes/base.py:3804\u001b[0m, in \u001b[0;36mIndex.get_loc\u001b[0;34m(self, key, method, tolerance)\u001b[0m\n\u001b[1;32m   3802\u001b[0m     \u001b[38;5;28;01mreturn\u001b[39;00m \u001b[38;5;28mself\u001b[39m\u001b[38;5;241m.\u001b[39m_engine\u001b[38;5;241m.\u001b[39mget_loc(casted_key)\n\u001b[1;32m   3803\u001b[0m \u001b[38;5;28;01mexcept\u001b[39;00m \u001b[38;5;167;01mKeyError\u001b[39;00m \u001b[38;5;28;01mas\u001b[39;00m err:\n\u001b[0;32m-> 3804\u001b[0m     \u001b[38;5;28;01mraise\u001b[39;00m \u001b[38;5;167;01mKeyError\u001b[39;00m(key) \u001b[38;5;28;01mfrom\u001b[39;00m \u001b[38;5;21;01merr\u001b[39;00m\n\u001b[1;32m   3805\u001b[0m \u001b[38;5;28;01mexcept\u001b[39;00m \u001b[38;5;167;01mTypeError\u001b[39;00m:\n\u001b[1;32m   3806\u001b[0m     \u001b[38;5;66;03m# If we have a listlike key, _check_indexing_error will raise\u001b[39;00m\n\u001b[1;32m   3807\u001b[0m     \u001b[38;5;66;03m#  InvalidIndexError. Otherwise we fall through and re-raise\u001b[39;00m\n\u001b[1;32m   3808\u001b[0m     \u001b[38;5;66;03m#  the TypeError.\u001b[39;00m\n\u001b[1;32m   3809\u001b[0m     \u001b[38;5;28mself\u001b[39m\u001b[38;5;241m.\u001b[39m_check_indexing_error(key)\n",
      "\u001b[0;31mKeyError\u001b[0m: 3"
     ]
    }
   ],
   "source": [
    "df = get_as_dataframe(df[3], evaluate_formulas=True)"
   ]
  },
  {
   "cell_type": "code",
   "execution_count": 72,
   "id": "e8e3ae3b-007b-425d-882d-fe67fd7026e0",
   "metadata": {},
   "outputs": [
    {
     "name": "stdout",
     "output_type": "stream",
     "text": [
      "     =arrayformula(if(REGEXMATCH(B1:B,\"^name$\"),true,false))  ={etl}  \\\n",
      "0                                                  NaN           NaN   \n",
      "1                                                  NaN           NaN   \n",
      "2                                                  NaN           NaN   \n",
      "3                                                  NaN           NaN   \n",
      "4                                                  NaN           NaN   \n",
      "..                                                 ...           ...   \n",
      "994                                                NaN           NaN   \n",
      "995                                                NaN           NaN   \n",
      "996                                                NaN           NaN   \n",
      "997                                                NaN           NaN   \n",
      "998                                                NaN           NaN   \n",
      "\n",
      "     Unnamed: 2  =ARRAYFORMULA(IF(A1:A=TRUE,N1:N,\"\"))  \\\n",
      "0           NaN                                   NaN   \n",
      "1           NaN                                   NaN   \n",
      "2           NaN                                   NaN   \n",
      "3           NaN                                   NaN   \n",
      "4           NaN                                   NaN   \n",
      "..          ...                                   ...   \n",
      "994         NaN                                   NaN   \n",
      "995         NaN                                   NaN   \n",
      "996         NaN                                   NaN   \n",
      "997         NaN                                   NaN   \n",
      "998         NaN                                   NaN   \n",
      "\n",
      "     =arrayformula(trim(clean($B1:$B)))  =arrayformula(trim(clean(C1:C)))  \\\n",
      "0                                   NaN                               NaN   \n",
      "1                                   NaN                               NaN   \n",
      "2                                   NaN                               NaN   \n",
      "3                                   NaN                               NaN   \n",
      "4                                   NaN                               NaN   \n",
      "..                                  ...                               ...   \n",
      "994                                 NaN                               NaN   \n",
      "995                                 NaN                               NaN   \n",
      "996                                 NaN                               NaN   \n",
      "997                                 NaN                               NaN   \n",
      "998                                 NaN                               NaN   \n",
      "\n",
      "     =ARRAYFORMULA(IF($A1:A=TRUE,SPLIT(F1:F,\"/\"),\"\"))  Unnamed: 7  Unnamed: 8  \\\n",
      "0                                                 NaN         NaN         NaN   \n",
      "1                                                 NaN         NaN         NaN   \n",
      "2                                                 NaN         NaN         NaN   \n",
      "3                                                 NaN         NaN         NaN   \n",
      "4                                                 NaN         NaN         NaN   \n",
      "..                                                ...         ...         ...   \n",
      "994                                               NaN         NaN         NaN   \n",
      "995                                               NaN         NaN         NaN   \n",
      "996                                               NaN         NaN         NaN   \n",
      "997                                               NaN         NaN         NaN   \n",
      "998                                               NaN         NaN         NaN   \n",
      "\n",
      "     Unnamed: 9  ...  Unnamed: 19  Unnamed: 20  Unnamed: 21  Unnamed: 22  \\\n",
      "0           NaN  ...          NaN          NaN          NaN          NaN   \n",
      "1           NaN  ...          NaN          NaN          NaN          NaN   \n",
      "2           NaN  ...          NaN          NaN          NaN          NaN   \n",
      "3           NaN  ...          NaN          NaN          NaN          NaN   \n",
      "4           NaN  ...          NaN          NaN          NaN          NaN   \n",
      "..          ...  ...          ...          ...          ...          ...   \n",
      "994         NaN  ...          NaN          NaN          NaN          NaN   \n",
      "995         NaN  ...          NaN          NaN          NaN          NaN   \n",
      "996         NaN  ...          NaN          NaN          NaN          NaN   \n",
      "997         NaN  ...          NaN          NaN          NaN          NaN   \n",
      "998         NaN  ...          NaN          NaN          NaN          NaN   \n",
      "\n",
      "     Unnamed: 23  Unnamed: 24  Unnamed: 25  Unnamed: 26  Unnamed: 27  \\\n",
      "0            NaN          NaN          NaN          NaN          NaN   \n",
      "1            NaN          NaN          NaN          NaN          NaN   \n",
      "2            NaN          NaN          NaN          NaN          NaN   \n",
      "3            NaN          NaN          NaN          NaN          NaN   \n",
      "4            NaN          NaN          NaN          NaN          NaN   \n",
      "..           ...          ...          ...          ...          ...   \n",
      "994          NaN          NaN          NaN          NaN          NaN   \n",
      "995          NaN          NaN          NaN          NaN          NaN   \n",
      "996          NaN          NaN          NaN          NaN          NaN   \n",
      "997          NaN          NaN          NaN          NaN          NaN   \n",
      "998          NaN          NaN          NaN          NaN          NaN   \n",
      "\n",
      "     Unnamed: 28  \n",
      "0            NaN  \n",
      "1            NaN  \n",
      "2            NaN  \n",
      "3            NaN  \n",
      "4            NaN  \n",
      "..           ...  \n",
      "994          NaN  \n",
      "995          NaN  \n",
      "996          NaN  \n",
      "997          NaN  \n",
      "998          NaN  \n",
      "\n",
      "[999 rows x 29 columns]\n"
     ]
    }
   ],
   "source": [
    "print(df)"
   ]
  },
  {
   "cell_type": "code",
   "execution_count": 73,
   "id": "f4dca4bd-55ec-4262-b025-2df7d7e55a2a",
   "metadata": {},
   "outputs": [],
   "source": [
    "set_with_dataframe(sh.add_worksheet(r.word(),rows=1000,cols=50), \n",
    "                   df)"
   ]
  },
  {
   "cell_type": "code",
   "execution_count": 68,
   "id": "aa0a091e-cf7a-40dc-91cc-47ff6ae6ba9a",
   "metadata": {},
   "outputs": [
    {
     "name": "stdout",
     "output_type": "stream",
     "text": [
      "<Spreadsheet '5. SAD DFCX - Intents' id:1lt02Hh2B_q_sluK-sAcgqyJ8WbqfZ6qDP_EQJVHPJDo>\n"
     ]
    }
   ],
   "source": [
    "print(sh)"
   ]
  },
  {
   "cell_type": "code",
   "execution_count": null,
   "id": "c585d3f2-f3ae-448c-a3c2-c9418985907f",
   "metadata": {},
   "outputs": [],
   "source": []
  },
  {
   "cell_type": "code",
   "execution_count": null,
   "id": "85aca0bc-689e-4b93-b893-0ba8adecdb9c",
   "metadata": {},
   "outputs": [],
   "source": []
  }
 ],
 "metadata": {
  "kernelspec": {
   "display_name": "Python 3 (ipykernel)",
   "language": "python",
   "name": "python3"
  },
  "language_info": {
   "codemirror_mode": {
    "name": "ipython",
    "version": 3
   },
   "file_extension": ".py",
   "mimetype": "text/x-python",
   "name": "python",
   "nbconvert_exporter": "python",
   "pygments_lexer": "ipython3",
   "version": "3.11.6"
  }
 },
 "nbformat": 4,
 "nbformat_minor": 5
}
