{
 "cells": [
  {
   "cell_type": "markdown",
   "id": "2303d378",
   "metadata": {},
   "source": [
    "### env imports"
   ]
  },
  {
   "cell_type": "code",
   "execution_count": 3,
   "id": "71ca350f",
   "metadata": {},
   "outputs": [],
   "source": [
    "%%capture\n",
    "!pip3 install gspread-formatting gspread google-auth "
   ]
  },
  {
   "cell_type": "markdown",
   "id": "9bbc019d",
   "metadata": {},
   "source": [
    "### module imports"
   ]
  },
  {
   "cell_type": "code",
   "execution_count": 5,
   "id": "758a9278",
   "metadata": {},
   "outputs": [],
   "source": [
    "# general python imports\n",
    "import os\n",
    "\n",
    "# # dfcx-scrapi\n",
    "# from dfcx_scrapi.core.intents import Intents\n",
    "# from dfcx_scrapi.tools.dataframe_functions import DataframeFunctions\n",
    "\n",
    "# For connection to g-sheets\n",
    "import gspread\n",
    "import gspread_formatting\n",
    "from oauth2client.service_account import ServiceAccountCredentials\n",
    "from df2gspread import df2gspread as d2g\n"
   ]
  },
  {
   "cell_type": "markdown",
   "id": "c29118f6",
   "metadata": {},
   "source": [
    "## g-sheets config"
   ]
  },
  {
   "cell_type": "code",
   "execution_count": 8,
   "id": "acd80454",
   "metadata": {},
   "outputs": [],
   "source": [
    "# %%capture\n",
    "# service account scopes\n",
    "# master systems analysis and design dxfc g-sheets workbook... Can be viewed and copied at https://itrau.co/dfcx-sad\n",
    "\n",
    "scope = ['https://www.googleapis.com/auth/spreadsheets','https://www.googleapis.com/auth/drive']\n",
    "\n",
    "\n",
    "#authorize sa\n",
    "credentials = ServiceAccountCredentials.from_json_keyfile_name('/Users/christophertrauco/.config/secrets/cx_admin_sa.json', scope)\n",
    "client = gspread.authorize(credentials)\n",
    "spreadsheet_key = '18qvh0uWkA0z7S5CC3xTdvD2wkhsmnINjgxUWmuoCo7M'\n",
    "sh = client.open_by_key(spreadsheet_key)\n",
    "# master systems analysis and design dxfc g-sheets workbook... Can be viewed and copied at https://itrau.co/dfcx-sad\n"
   ]
  },
  {
   "cell_type": "code",
   "execution_count": 13,
   "id": "da2c5493",
   "metadata": {},
   "outputs": [],
   "source": [
    "sh = client.create('test')\n"
   ]
  },
  {
   "cell_type": "code",
   "execution_count": 14,
   "id": "d23089d0",
   "metadata": {},
   "outputs": [
    {
     "data": {
      "text/plain": [
       "<Response [200]>"
      ]
     },
     "execution_count": 14,
     "metadata": {},
     "output_type": "execute_result"
    }
   ],
   "source": [
    "sh.share('chris@botcopy.com', perm_type='user', role='writer')"
   ]
  },
  {
   "cell_type": "code",
   "execution_count": null,
   "id": "68498bb4",
   "metadata": {},
   "outputs": [],
   "source": []
  }
 ],
 "metadata": {
  "kernelspec": {
   "display_name": "Python 3 (ipykernel)",
   "language": "python",
   "name": "python3"
  },
  "language_info": {
   "codemirror_mode": {
    "name": "ipython",
    "version": 3
   },
   "file_extension": ".py",
   "mimetype": "text/x-python",
   "name": "python",
   "nbconvert_exporter": "python",
   "pygments_lexer": "ipython3",
   "version": "3.11.5"
  }
 },
 "nbformat": 4,
 "nbformat_minor": 5
}
