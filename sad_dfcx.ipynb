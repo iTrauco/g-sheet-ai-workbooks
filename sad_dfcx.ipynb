{
 "cells": [
  {
   "cell_type": "markdown",
   "id": "4e9467f4",
   "metadata": {},
   "source": [
    "### env imports"
   ]
  },
  {
   "cell_type": "code",
   "execution_count": 22,
   "id": "fc7d1a87",
   "metadata": {},
   "outputs": [],
   "source": [
    "%%capture\n",
    "!pip3 install gspread-formatting gspread google-auth wonderwords gspread-dataframe"
   ]
  },
  {
   "cell_type": "markdown",
   "id": "d6e1ea97",
   "metadata": {},
   "source": [
    "### module imports"
   ]
  },
  {
   "cell_type": "code",
   "execution_count": 23,
   "id": "b57713e9",
   "metadata": {},
   "outputs": [],
   "source": [
    "# general python imports\n",
    "import os\n",
    "\n",
    "# random word generator\n",
    "import wonderwords\n",
    "\n",
    "# data manipulation\n",
    "import pandas as pd\n",
    "import numpy as np\n",
    "\n",
    "# # dfcx-scrapi\n",
    "# from dfcx_scrapi.core.intents import Intents\n",
    "# from dfcx_scrapi.tools.dataframe_functions import DataframeFunctions\n",
    "\n",
    "# For connection to g-sheets\n",
    "import gspread\n",
    "from gspread_dataframe import get_as_dataframe, set_with_dataframe\n",
    "\n",
    "import gspread_formatting\n",
    "from oauth2client.service_account import ServiceAccountCredentials\n",
    "from df2gspread import df2gspread as d2g\n",
    "\n",
    "###\n",
    "import pandas as pd\n",
    "from gspread_dataframe import get_as_dataframe, set_with_dataframe\n",
    "from gspread_formatting.dataframe import format_with_dataframe\n",
    "\n"
   ]
  },
  {
   "cell_type": "markdown",
   "id": "4c0e02f7",
   "metadata": {},
   "source": [
    "## g-sheets config"
   ]
  },
  {
   "cell_type": "code",
   "execution_count": 24,
   "id": "fc7c2a6c",
   "metadata": {},
   "outputs": [],
   "source": [
    "# %%capture\n",
    "# service account scopes\n",
    "# master systems analysis and design dxfc g-sheets workbook...\n",
    "\n",
    "scope = ['https://www.googleapis.com/auth/spreadsheets','https://www.googleapis.com/auth/drive']\n",
    "\n",
    "\n",
    "#authorize sa\n",
    "credentials = ServiceAccountCredentials.from_json_keyfile_name('/Users/christophertrauco/.config/secrets/cx_admin_sa.json', scope)\n",
    "client = gspread.authorize(credentials)\n",
    "spreadsheet_key = '18qvh0uWkA0z7S5CC3xTdvD2wkhsmnINjgxUWmuoCo7M'\n",
    "sh = client.open_by_key(spreadsheet_key)\n"
   ]
  },
  {
   "cell_type": "code",
   "execution_count": 25,
   "id": "8feded78",
   "metadata": {},
   "outputs": [],
   "source": [
    "from wonderwords import RandomWord\n",
    "\n",
    "r = RandomWord()\n",
    "\n",
    "# generate a random word\n",
    "x = r.word(word_max_length=10)\n"
   ]
  },
  {
   "cell_type": "code",
   "execution_count": 26,
   "id": "58618789",
   "metadata": {},
   "outputs": [],
   "source": [
    "sh = client.create(x)\n"
   ]
  },
  {
   "cell_type": "code",
   "execution_count": 27,
   "id": "a58704d1",
   "metadata": {},
   "outputs": [],
   "source": [
    "sh.share('chris@botcopy.com', perm_type='user', role='writer')"
   ]
  },
  {
   "cell_type": "code",
   "execution_count": 28,
   "id": "e1872891",
   "metadata": {},
   "outputs": [
    {
     "name": "stdout",
     "output_type": "stream",
     "text": [
      "<Spreadsheet 'seminar' id:1e0iHzaFi2_M9orHbJHk1bTo0hE_PMwRmNZvLMznFcfo>\n"
     ]
    }
   ],
   "source": [
    "print(sh)\n",
    "x = r.word(word_max_length=10)\n",
    "test_wks = sh.add_worksheet(x, rows=100,cols=100)\n",
    "\n",
    "# cell = worksheet.acell('B1', value_render_option='FORMULA').value\n",
    "\n",
    "\n",
    "\n"
   ]
  },
  {
   "cell_type": "code",
   "execution_count": 29,
   "id": "7a48668f",
   "metadata": {},
   "outputs": [
    {
     "name": "stdout",
     "output_type": "stream",
     "text": [
      "<Worksheet 'butcher' id:1918276400>\n"
     ]
    },
    {
     "data": {
      "text/plain": [
       "gspread.worksheet.Worksheet"
      ]
     },
     "execution_count": 29,
     "metadata": {},
     "output_type": "execute_result"
    }
   ],
   "source": [
    "print(test_wks)\n",
    "type(test_wks)"
   ]
  },
  {
   "cell_type": "code",
   "execution_count": 30,
   "id": "9838f7c4",
   "metadata": {},
   "outputs": [],
   "source": [
    "cell = test_wks.acell('B1', value_render_option='FORMULA').value"
   ]
  },
  {
   "cell_type": "code",
   "execution_count": 31,
   "id": "bf2febbb",
   "metadata": {},
   "outputs": [],
   "source": [
    "# print(cell)"
   ]
  },
  {
   "cell_type": "code",
   "execution_count": 42,
   "id": "8c5e528d",
   "metadata": {},
   "outputs": [],
   "source": [
    "df = get_as_dataframe(test_wks, evaluate_formulas=False)"
   ]
  },
  {
   "cell_type": "code",
   "execution_count": 43,
   "id": "3bdfa662",
   "metadata": {},
   "outputs": [
    {
     "name": "stdout",
     "output_type": "stream",
     "text": [
      "    =COLUMNS(A1)  =COLUMNS(B1)  =COLUMNS(C1)  =COLUMNS(D1)  =COLUMNS(E1)  \\\n",
      "0            NaN  =COLUMNS(B2)           NaN           NaN  =COLUMNS(E2)   \n",
      "1            NaN  =COLUMNS(B3)           NaN           NaN  =COLUMNS(E3)   \n",
      "2            NaN  =COLUMNS(B4)           NaN           NaN  =COLUMNS(E4)   \n",
      "3            NaN  =COLUMNS(B5)           NaN           NaN  =COLUMNS(E5)   \n",
      "4            NaN  =COLUMNS(B6)           NaN           NaN  =COLUMNS(E6)   \n",
      "..           ...           ...           ...           ...           ...   \n",
      "94           NaN           NaN           NaN           NaN           NaN   \n",
      "95           NaN           NaN           NaN           NaN           NaN   \n",
      "96           NaN           NaN           NaN           NaN           NaN   \n",
      "97           NaN           NaN           NaN           NaN           NaN   \n",
      "98           NaN           NaN           NaN           NaN           NaN   \n",
      "\n",
      "    =COLUMNS(F1)  =COLUMNS(G1)  Unnamed: 7  Unnamed: 8  Unnamed: 9  ...  \\\n",
      "0            NaN           NaN         NaN         NaN         NaN  ...   \n",
      "1            NaN           NaN         NaN         NaN         NaN  ...   \n",
      "2            NaN           NaN         NaN         NaN         NaN  ...   \n",
      "3            NaN           NaN         NaN         NaN         NaN  ...   \n",
      "4            NaN           NaN         NaN         NaN         NaN  ...   \n",
      "..           ...           ...         ...         ...         ...  ...   \n",
      "94           NaN           NaN         NaN         NaN         NaN  ...   \n",
      "95           NaN           NaN         NaN         NaN         NaN  ...   \n",
      "96           NaN           NaN         NaN         NaN         NaN  ...   \n",
      "97           NaN           NaN         NaN         NaN         NaN  ...   \n",
      "98           NaN           NaN         NaN         NaN         NaN  ...   \n",
      "\n",
      "    Unnamed: 90  Unnamed: 91  Unnamed: 92  Unnamed: 93  Unnamed: 94  \\\n",
      "0           NaN          NaN          NaN          NaN          NaN   \n",
      "1           NaN          NaN          NaN          NaN          NaN   \n",
      "2           NaN          NaN          NaN          NaN          NaN   \n",
      "3           NaN          NaN          NaN          NaN          NaN   \n",
      "4           NaN          NaN          NaN          NaN          NaN   \n",
      "..          ...          ...          ...          ...          ...   \n",
      "94          NaN          NaN          NaN          NaN          NaN   \n",
      "95          NaN          NaN          NaN          NaN          NaN   \n",
      "96          NaN          NaN          NaN          NaN          NaN   \n",
      "97          NaN          NaN          NaN          NaN          NaN   \n",
      "98          NaN          NaN          NaN          NaN          NaN   \n",
      "\n",
      "    Unnamed: 95  Unnamed: 96  Unnamed: 97  Unnamed: 98  Unnamed: 99  \n",
      "0           NaN          NaN          NaN          NaN          NaN  \n",
      "1           NaN          NaN          NaN          NaN          NaN  \n",
      "2           NaN          NaN          NaN          NaN          NaN  \n",
      "3           NaN          NaN          NaN          NaN          NaN  \n",
      "4           NaN          NaN          NaN          NaN          NaN  \n",
      "..          ...          ...          ...          ...          ...  \n",
      "94          NaN          NaN          NaN          NaN          NaN  \n",
      "95          NaN          NaN          NaN          NaN          NaN  \n",
      "96          NaN          NaN          NaN          NaN          NaN  \n",
      "97          NaN          NaN          NaN          NaN          NaN  \n",
      "98          NaN          NaN          NaN          NaN          NaN  \n",
      "\n",
      "[99 rows x 100 columns]\n"
     ]
    }
   ],
   "source": [
    "print(df)"
   ]
  },
  {
   "cell_type": "code",
   "execution_count": 44,
   "id": "92744354",
   "metadata": {},
   "outputs": [],
   "source": [
    "x = r.word(word_max_length=10)\n"
   ]
  },
  {
   "cell_type": "code",
   "execution_count": 45,
   "id": "55031bc5",
   "metadata": {},
   "outputs": [],
   "source": [
    "wks2 = sh.add_worksheet(x, rows=100,cols=100)\n",
    "set_with_dataframe(wks2, df)"
   ]
  },
  {
   "cell_type": "code",
   "execution_count": null,
   "id": "ff955943",
   "metadata": {},
   "outputs": [],
   "source": []
  }
 ],
 "metadata": {
  "kernelspec": {
   "display_name": "Python 3 (ipykernel)",
   "language": "python",
   "name": "python3"
  },
  "language_info": {
   "codemirror_mode": {
    "name": "ipython",
    "version": 3
   },
   "file_extension": ".py",
   "mimetype": "text/x-python",
   "name": "python",
   "nbconvert_exporter": "python",
   "pygments_lexer": "ipython3",
   "version": "3.11.6"
  }
 },
 "nbformat": 4,
 "nbformat_minor": 5
}
